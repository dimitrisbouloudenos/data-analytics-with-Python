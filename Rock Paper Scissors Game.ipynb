{
 "cells": [
  {
   "cell_type": "markdown",
   "id": "0f3f128a",
   "metadata": {},
   "source": [
    "# Rock,Paper,Scissors Game\n"
   ]
  },
  {
   "cell_type": "code",
   "execution_count": 19,
   "id": "a5b11127",
   "metadata": {},
   "outputs": [],
   "source": [
    "import random   "
   ]
  },
  {
   "cell_type": "code",
   "execution_count": 17,
   "id": "9c65f5ba",
   "metadata": {},
   "outputs": [
    {
     "name": "stdout",
     "output_type": "stream",
     "text": [
      "Enter a choice(rock,paper,scissors)scissors\n",
      "you choose scissors and computer choose paper\n",
      "Congrats you win! scissors wins paper\n",
      "Enter a choice(rock,paper,scissors)scissors\n",
      "you choose scissors and computer choose rock\n",
      "Sorry.You lost\n",
      "Enter a choice(rock,paper,scissors)scissors\n",
      "you choose scissors and computer choose paper\n",
      "Congrats you win! scissors wins paper\n",
      "Thanks for Playing\n"
     ]
    }
   ],
   "source": [
    "plays=3\n",
    "while plays>0:\n",
    "    ##User choices\n",
    "    user_action=input('Enter a choice(rock,paper,scissors)')\n",
    "    ##Create a list with all possible actions\n",
    "    possible_actions=['rock','paper','scissors']\n",
    "    ##This is a computer choice\n",
    "    computer_action=random.choice(possible_actions)\n",
    "    ##Print computer action\n",
    "    print(f\"you choose {user_action} and computer choose {computer_action}\")\n",
    "    ##user choose rock and computer choose scissors.User Wins Computer\n",
    "    if user_action=='rock' and computer_action=='scissors':\n",
    "        print('Congrats you win!Rock wins scissors')\n",
    "    ##user choose paper and computer paper.The Result is draw\n",
    "\n",
    "    elif user_action=='paper' and computer_action=='paper':\n",
    "        print('draw')\n",
    "    ##user choose scissors and computer paper.User Wins Computer\n",
    "    elif user_action=='scissors' and computer_action=='paper':\n",
    "        print('Congrats you win! scissors wins paper')\n",
    "    ##user choose paper and computer rock.User Wins Computer\n",
    "    elif user_action=='papper' and computer_action=='rock':\n",
    "        print('Congrats you win! paper wins rock')\n",
    "    else:\n",
    "    ## Computer wins the user\n",
    "        print('Sorry.You lost')\n",
    "    ##while is 1.Program Stops\n",
    "    plays=plays-1\n",
    "print('Thanks for Playing')\n",
    "\n",
    "\n"
   ]
  },
  {
   "cell_type": "code",
   "execution_count": null,
   "id": "1973969a",
   "metadata": {},
   "outputs": [],
   "source": []
  },
  {
   "cell_type": "code",
   "execution_count": null,
   "id": "231edf2e",
   "metadata": {},
   "outputs": [],
   "source": []
  }
 ],
 "metadata": {
  "kernelspec": {
   "display_name": "Python 3 (ipykernel)",
   "language": "python",
   "name": "python3"
  },
  "language_info": {
   "codemirror_mode": {
    "name": "ipython",
    "version": 3
   },
   "file_extension": ".py",
   "mimetype": "text/x-python",
   "name": "python",
   "nbconvert_exporter": "python",
   "pygments_lexer": "ipython3",
   "version": "3.11.4"
  }
 },
 "nbformat": 4,
 "nbformat_minor": 5
}
